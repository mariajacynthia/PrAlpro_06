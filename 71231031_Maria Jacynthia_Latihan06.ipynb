{
 "cells": [
  {
   "cell_type": "code",
   "execution_count": 20,
   "metadata": {},
   "outputs": [
    {
     "name": "stdout",
     "output_type": "stream",
     "text": [
      "bilangan prima terdekat kurang dari 700 adalah 691\n"
     ]
    }
   ],
   "source": [
    "#6-1\n",
    "def prima(a):\n",
    "    if a<2:\n",
    "        return False\n",
    "    for i in range(2,int(a**0.5)+1):\n",
    "        if a%i==0:\n",
    "            return False\n",
    "    return True\n",
    "\n",
    "def bil_terdekat(a):\n",
    "    if a<2:\n",
    "        return None\n",
    "    for i in range(a-1,1,-1):\n",
    "        if prima(i):\n",
    "            return i\n",
    "    return None\n",
    "\n",
    "a = int(input(\"masukkan bilangan: \"))\n",
    "prima_terdekat = bil_terdekat(a)\n",
    "if prima_terdekat != None:\n",
    "    print(f\"bilangan prima terdekat kurang dari {a} adalah {prima_terdekat}\")\n",
    "else:\n",
    "    print(f\"tidak ada bilangan prima kurang dari {a}\")"
   ]
  },
  {
   "cell_type": "code",
   "execution_count": 1,
   "metadata": {},
   "outputs": [
    {
     "name": "stdout",
     "output_type": "stream",
     "text": [
      "5040 7 6 5 4 3 2 1 \n",
      "720 6 5 4 3 2 1 \n",
      "120 5 4 3 2 1 \n",
      "24 4 3 2 1 \n",
      "6 3 2 1 \n",
      "2 2 1 \n",
      "1 1 \n"
     ]
    }
   ],
   "source": [
    "#6-2\n",
    "def faktorial(t):\n",
    "    if t==0 or t==1:\n",
    "        return 1\n",
    "    else:\n",
    "        return t*faktorial(t-1)\n",
    "    \n",
    "def deret(c):\n",
    "    for y in range(c,0,-1):\n",
    "        print(faktorial(y), end=\" \")\n",
    "        for n in range(y,0,-1):\n",
    "            print(n, end=\" \")\n",
    "        print()\n",
    "\n",
    "c = int(input(\"masukkan bilangan: \"))\n",
    "deret(c)"
   ]
  },
  {
   "cell_type": "code",
   "execution_count": 2,
   "metadata": {},
   "outputs": [
    {
     "name": "stdout",
     "output_type": "stream",
     "text": [
      "1 2 3 4 5 \n",
      "6 7 8 9 10 \n",
      "11 12 13 14 15 \n",
      "16 17 18 19 20 \n",
      "21 22 23 24 25 \n",
      "26 27 28 29 30 \n",
      "31 32 33 34 35 \n"
     ]
    }
   ],
   "source": [
    "#6-3\n",
    "def deret(tinggi, lebar):\n",
    "    awalan = 1\n",
    "    for _ in range(tinggi):\n",
    "        for _ in range(lebar):\n",
    "            print(awalan, end=' ')\n",
    "            awalan += 1\n",
    "        print()\n",
    "\n",
    "tinggi = int(input(\"masukkan tinggi: \"))\n",
    "lebar = int(input(\"masukkan lebar: \"))\n",
    "\n",
    "deret(tinggi, lebar)"
   ]
  }
 ],
 "metadata": {
  "kernelspec": {
   "display_name": "Python 3",
   "language": "python",
   "name": "python3"
  },
  "language_info": {
   "codemirror_mode": {
    "name": "ipython",
    "version": 3
   },
   "file_extension": ".py",
   "mimetype": "text/x-python",
   "name": "python",
   "nbconvert_exporter": "python",
   "pygments_lexer": "ipython3",
   "version": "3.12.0"
  }
 },
 "nbformat": 4,
 "nbformat_minor": 2
}
